{
 "cells": [
  {
   "cell_type": "markdown",
   "metadata": {},
   "source": [
    "Generate melodies from a trained checkpoint of an improv RNN model."
   ]
  },
  {
   "cell_type": "markdown",
   "metadata": {},
   "source": [
    "Built based on https://github.com/tensorflow/magenta/blob/master/magenta/models/improv_rnn/improv_rnn_generate.py\n",
    "Copyright 2016 Google Inc. All Rights Reserved.\n",
    "\n",
    "Licensed under the Apache License, Version 2.0 (the \"License\");\n",
    "you may not use this file except in compliance with the License.\n",
    "You may obtain a copy of the License at\n",
    "\n",
    " http://www.apache.org/licenses/LICENSE-2.0\n",
    "Unless required by applicable law or agreed to in writing, software\n",
    "distributed under the License is distributed on an \"AS IS\" BASIS,\n",
    "WITHOUT WARRANTIES OR CONDITIONS OF ANY KIND, either express or implied.\n",
    "See the License for the specific language governing permissions and\n",
    "limitations under the License.\n"
   ]
  },
  {
   "cell_type": "code",
   "execution_count": null,
   "metadata": {
    "collapsed": true
   },
   "outputs": [],
   "source": [
    "# !pip install magenta"
   ]
  },
  {
   "cell_type": "code",
   "execution_count": 1,
   "metadata": {
    "collapsed": false
   },
   "outputs": [],
   "source": [
    "import ast\n",
    "import os\n",
    "import time\n",
    "\n",
    "# internal imports\n",
    "\n",
    "import tensorflow as tf\n",
    "import magenta\n",
    "\n",
    "from magenta.models.improv_rnn import improv_rnn_config_flags\n",
    "from magenta.models.improv_rnn import improv_rnn_model\n",
    "from magenta.models.improv_rnn import improv_rnn_sequence_generator\n",
    "from magenta.protobuf import generator_pb2\n",
    "from magenta.protobuf import music_pb2"
   ]
  },
  {
   "cell_type": "code",
   "execution_count": 2,
   "metadata": {
    "collapsed": true
   },
   "outputs": [],
   "source": [
    "CHORD_SYMBOL = music_pb2.NoteSequence.TextAnnotation.CHORD_SYMBOL\n",
    "\n",
    "# Velocity at which to play chord notes when rendering chords.\n",
    "CHORD_VELOCITY = 50"
   ]
  },
  {
   "cell_type": "code",
   "execution_count": 3,
   "metadata": {
    "collapsed": false
   },
   "outputs": [],
   "source": [
    "# setting default variables (since not using command line)\n",
    "# TF flags for command line work (commented at bottom of work)\n",
    "\n",
    "run_dir = None    #Path to the directory where the latest checkpoint will be loaded from.\n",
    "\n",
    "bundle_file = None\n",
    "# Path to the bundle file. If specified, this will take priority over\n",
    "# run_dir, unless save_generator_bundle is True, in which case both this and run_dir are required\n",
    "\n",
    "save_generator_bundle = False\n",
    "# If true, instead of generating a sequence, will save this generator as a\n",
    "# bundle file in the location specified by the bundle_file flag\n",
    "\n",
    "\n",
    "bundle_description = None\n",
    "# A short, human-readable text description of the bundle (e.g., training data, hyper parameters, etc.)\n",
    "\n",
    "\n",
    "output_dir = '/tmp/improv_rnn/generated'  #The directory where MIDI files will be saved to.\n",
    "\n",
    "num_outputs = 10  #The number of lead sheets to generate. One MIDI file will be created for each\n",
    "\n",
    "steps_per_chord = 16  \n",
    "# number of melody steps to take per backing chord. Each step is a 16th '\n",
    "# of a bar, so if backing_chords = \"C G Am F\" and steps_per_chord = 16, four bars will be generated.\n",
    "\n",
    "primer_melody = ''\n",
    "# A string representation of a Python list of magenta.music.Melody event values. \n",
    "# For example: \"[60, -2, 60, -2, 67, -2, 67, -2]\". If specified, this melody will be\n",
    "# used as the priming melody. If a priming melody is not specified, melodies will be generated from scratch\n",
    "\n",
    "backing_chords = 'C G Am F C G F C'\n",
    "# A string representation of a chord progression, with chord symbols '\n",
    "# separated by spaces. For example: \"C Dm7 G13 Cmaj7\". The duration of each chord, in steps, is specified by the steps_per_chord flag\n",
    "\n",
    "primer_midi = ''\n",
    "# The path to a MIDI file containing a melody that will be used as a priming melody. \n",
    "# If a primer melody is not specified, melodies will be generated from scratch\n",
    "\n",
    "render_chords =  False  #If true, the backing chords will also be rendered as notes in the output MIDI files\n",
    "\n",
    "qpm = None\n",
    "# Quarters per minute to play generated output at. If a primer MIDI is given, the qpm from that will override this flag. \n",
    "# If qpm is None, qpm will default to 120\n",
    "\n",
    "\n",
    "temperature = 1.0\n",
    "# randomness of the generated melodies. 1.0 uses the unaltered softmax probabilities, \n",
    "# greater than 1.0 makes melodies more random, less than 1.0 makes melodies less random.\n",
    "\n",
    "    \n",
    "beam_size = 1    #beam size to use for beam search when generating melodies\n",
    "\n",
    "    \n",
    "branch_factor = 1    #The branch factor to use for beam search when generating melodies\n",
    "\n",
    "    \n",
    "steps_per_iteration = 1     #The number of melody steps to take per beam search iteration\n",
    "\n",
    "\n",
    "log = 'INFO'  # Threshold for what messages will be logged DEBUG, INFO, WARN, ERROR, or FATAL.\n"
   ]
  },
  {
   "cell_type": "code",
   "execution_count": 4,
   "metadata": {
    "collapsed": true
   },
   "outputs": [],
   "source": [
    "def get_checkpoint():\n",
    "    \"\"\"Get the training dir to be used by the model.\"\"\"\n",
    "    if run_dir and bundle_file and not save_generator_bundle:\n",
    "        raise magenta.music.SequenceGeneratorException(\n",
    "        'Cannot specify both bundle_file and run_dir')\n",
    "    if run_dir:\n",
    "        train_dir = os.path.join(os.path.expanduser(run_dir), 'train')\n",
    "        return train_dir\n",
    "    else:\n",
    "        return None"
   ]
  },
  {
   "cell_type": "code",
   "execution_count": 11,
   "metadata": {
    "collapsed": true
   },
   "outputs": [],
   "source": [
    "def get_bundle(bundle_file):\n",
    "    \"\"\"Returns a generator_pb2.GeneratorBundle object based read from bundle_file\n",
    "    Returns:\n",
    "       Either a generator_pb2.GeneratorBundle or \n",
    "       None if the bundle_file flag is not set or the save_generator_bundle flag is set.\n",
    "    \"\"\"\n",
    "    if save_generator_bundle:\n",
    "        return None\n",
    "    if bundle_file is None:\n",
    "        return None\n",
    "  \n",
    "    bundle_file = os.path.expanduser(bundle_file)\n",
    "    return magenta.music.read_bundle_file(bundle_file)"
   ]
  },
  {
   "cell_type": "code",
   "execution_count": 6,
   "metadata": {
    "collapsed": false
   },
   "outputs": [],
   "source": [
    "def run_improv(generator):\n",
    "    \"\"\"\n",
    "    Generates melodies and saves them as MIDI files.\n",
    "    Uses the options specified by the flags defined in this module.\n",
    "    Args:\n",
    "        generator: The ImprovRnnSequenceGenerator to use for generation.\n",
    "    \"\"\"\n",
    "    if not output_dir:\n",
    "        tf.logging.fatal('--output_dir required')\n",
    "        return\n",
    "  \n",
    "    output_dir = os.path.expanduser(output_dir)\n",
    "    \n",
    "    if primer_midi:\n",
    "        primer_midi = os.path.expanduser(primer_midi)\n",
    "        \n",
    "    if not tf.gfile.Exists(output_dir):\n",
    "        tf.gfile.MakeDirs(output_dir)\n",
    "\n",
    "    primer_sequence = None\n",
    "\n",
    "    qpm = qpm if qpm else magenta.music.DEFAULT_QUARTERS_PER_MINUTE\n",
    "  \n",
    "    if primer_melody:\n",
    "        primer_melody = magenta.music.Melody(ast.literal_eval(primer_melody))\n",
    "        primer_sequence = primer_melody.to_sequence(qpm=qpm)\n",
    "    elif primer_midi:\n",
    "        primer_sequence = magenta.music.midi_file_to_sequence_proto(primer_midi)\n",
    "        if primer_sequence.tempos and primer_sequence.tempos[0].qpm:\n",
    "            qpm = primer_sequence.tempos[0].qpm\n",
    "        else:\n",
    "            tf.logging.warning(\n",
    "                'No priming sequence specified. Defaulting to a single middle C.')\n",
    "            primer_melody = magenta.music.Melody([60])\n",
    "            primer_sequence = primer_melody.to_sequence(qpm=qpm)\n",
    "\n",
    "    # Create backing chord progression from flags.\n",
    "    raw_chords = backing_chords.split()\n",
    "    repeated_chords = [chord for chord in raw_chords\n",
    "                       for _ in range(steps_per_chord)]\n",
    "    backing_chords = magenta.music.ChordProgression(repeated_chords)\n",
    "\n",
    "    # Derive the total number of seconds to generate based on the QPM of the\n",
    "    # priming sequence and the length of the backing chord progression.\n",
    "    seconds_per_step = 60.0 / qpm / generator.steps_per_quarter\n",
    "    total_seconds = len(backing_chords) * seconds_per_step\n",
    "\n",
    "    # Specify start/stop time for generation based on starting generation at the\n",
    "    # end of the priming sequence and continuing until the sequence is num_steps long.\n",
    "\n",
    "    generator_options = generator_pb2.GeneratorOptions()\n",
    "    if primer_sequence:\n",
    "        input_sequence = primer_sequence\n",
    "        # Set the start time to begin on the next step after the last note ends.\n",
    "        last_end_time = (max(n.end_time for n in primer_sequence.notes)\n",
    "                     if primer_sequence.notes else 0)\n",
    "        generate_section = generator_options.generate_sections.add(\n",
    "            start_time=last_end_time + seconds_per_step, end_time=total_seconds)\n",
    "\n",
    "    if generate_section.start_time >= generate_section.end_time:\n",
    "        tf.logging.fatal(\n",
    "          'Priming sequence is longer than the total number of steps '\n",
    "          'requested: Priming sequence length: %s, Generation length '\n",
    "          'requested: %s',\n",
    "          generate_section.start_time, total_seconds)\n",
    "        return\n",
    "    else:\n",
    "        input_sequence = music_pb2.NoteSequence()\n",
    "        input_sequence.tempos.add().qpm = qpm\n",
    "        generate_section = generator_options.generate_sections.add(\n",
    "            start_time=0, end_time=total_seconds)\n",
    "\n",
    "    # Add the backing chords to the input sequence.\n",
    "    chord_sequence = backing_chords.to_sequence(sequence_start_time=0.0, qpm=qpm)\n",
    "    for text_annotation in chord_sequence.text_annotations:\n",
    "        if text_annotation.annotation_type == CHORD_SYMBOL:\n",
    "            chord = input_sequence.text_annotations.add()\n",
    "            chord.CopyFrom(text_annotation)\n",
    "        input_sequence.total_time = len(backing_chords) * seconds_per_step\n",
    "\n",
    "    generator_options.args['temperature'].float_value = temperature\n",
    "    generator_options.args['beam_size'].int_value = beam_size\n",
    "    generator_options.args['branch_factor'].int_value = branch_factor\n",
    "    generator_options.args['steps_per_iteration'].int_value = steps_per_iteration\n",
    "    \n",
    "    tf.logging.debug('input_sequence: %s', input_sequence)\n",
    "    tf.logging.debug('generator_options: %s', generator_options)\n",
    "\n",
    "    # Make the generate request num_outputs times and save the output as midi files.\n",
    "    date_and_time = time.strftime('%Y-%m-%d_%H%M%S')\n",
    "    digits = len(str(num_outputs))\n",
    "    for i in range(num_outputs):\n",
    "        generated_sequence = generator.generate(input_sequence, generator_options)\n",
    "\n",
    "        if render_chords:\n",
    "            renderer = magenta.music.BasicChordRenderer(velocity=CHORD_VELOCITY)\n",
    "            renderer.render(generated_sequence)\n",
    "\n",
    "            midi_filename = '%s_%s.mid' % (date_and_time, str(i + 1).zfill(digits))\n",
    "            midi_path = os.path.join(output_dir, midi_filename)\n",
    "            magenta.music.sequence_proto_to_midi_file(generated_sequence, midi_path)\n",
    "\n",
    "    tf.logging.info('Wrote %d MIDI files to %s', num_outputs, output_dir)\n"
   ]
  },
  {
   "cell_type": "markdown",
   "metadata": {},
   "source": [
    "Attempting to run"
   ]
  },
  {
   "cell_type": "code",
   "execution_count": 16,
   "metadata": {
    "collapsed": true
   },
   "outputs": [],
   "source": [
    "def improv(bundle_file, config, output_dir):    \n",
    "    \"\"\"Saves bundle or runs generator based on flags.\"\"\"\n",
    "    tf.logging.set_verbosity(log)\n",
    "    bundle = get_bundle(bundle_file)\n",
    "    \n",
    "    print (bundle)\n",
    "  \n",
    "    if bundle:\n",
    "        config_id = bundle.generator_details.id\n",
    "        config = improv_rnn_model.default_configs[config_id]\n",
    "        print (type(config))\n",
    "        config.hparams.parse(hparams)\n",
    "    else:\n",
    "        config = improv_rnn_config_flags.config_from_flags()\n",
    "        # Having too large of a batch size will slow generation down unnecessarily.\n",
    "        config.hparams.batch_size = min(config.hparams.batch_size, beam_size * branch_factor)\n",
    "\n",
    "    generator = improv_rnn_sequence_generator.ImprovRnnSequenceGenerator(\n",
    "        model=improv_rnn_model.ImprovRnnModel(config),\n",
    "        details=config.details,\n",
    "        steps_per_quarter=config.steps_per_quarter,\n",
    "        checkpoint=get_checkpoint(),\n",
    "        bundle=bundle)\n",
    "\n",
    "    if save_generator_bundle:\n",
    "        bundle_filename = os.path.expanduser(bundle_file)\n",
    "    if bundle_description is None:\n",
    "        tf.logging.warning('No bundle description provided.')\n",
    "        tf.logging.info('Saving generator bundle to %s', bundle_filename)\n",
    "        generator.create_bundle_file(bundle_filename, FLAGS.bundle_description)\n",
    "    else:\n",
    "        run_improv(generator)"
   ]
  },
  {
   "cell_type": "code",
   "execution_count": 17,
   "metadata": {
    "collapsed": true
   },
   "outputs": [],
   "source": [
    "#bundle_file='/home/andrealpope/ExploreMagenta/PTModels'\n",
    "bundle_file='/home/andrealpope/ExploreMagenta/PTModels/chord_pitches_improv.mag'\n",
    "config='chord_pitches_improv'\n",
    "output_dir = '/home/andrealpope/ExploreMagenta/improv_rnn/generated'"
   ]
  },
  {
   "cell_type": "code",
   "execution_count": 18,
   "metadata": {
    "collapsed": false
   },
   "outputs": [
    {
     "name": "stdout",
     "output_type": "stream",
     "text": [
      "<class 'magenta.models.improv_rnn.improv_rnn_model.ImprovRnnConfig'>\n"
     ]
    },
    {
     "ename": "NameError",
     "evalue": "global name 'hparams' is not defined",
     "output_type": "error",
     "traceback": [
      "\u001b[0;31m---------------------------------------------------------------------------\u001b[0m",
      "\u001b[0;31mNameError\u001b[0m                                 Traceback (most recent call last)",
      "\u001b[0;32m<ipython-input-18-83621f85119b>\u001b[0m in \u001b[0;36m<module>\u001b[0;34m()\u001b[0m\n\u001b[0;32m----> 1\u001b[0;31m \u001b[0mimprov\u001b[0m\u001b[0;34m(\u001b[0m\u001b[0mbundle_file\u001b[0m\u001b[0;34m,\u001b[0m \u001b[0mconfig\u001b[0m\u001b[0;34m,\u001b[0m \u001b[0moutput_dir\u001b[0m\u001b[0;34m)\u001b[0m\u001b[0;34m\u001b[0m\u001b[0m\n\u001b[0m",
      "\u001b[0;32m<ipython-input-16-e1f3bf2db880>\u001b[0m in \u001b[0;36mimprov\u001b[0;34m(bundle_file, config, output_dir)\u001b[0m\n\u001b[1;32m      8\u001b[0m         \u001b[0mconfig\u001b[0m \u001b[0;34m=\u001b[0m \u001b[0mimprov_rnn_model\u001b[0m\u001b[0;34m.\u001b[0m\u001b[0mdefault_configs\u001b[0m\u001b[0;34m[\u001b[0m\u001b[0mconfig_id\u001b[0m\u001b[0;34m]\u001b[0m\u001b[0;34m\u001b[0m\u001b[0m\n\u001b[1;32m      9\u001b[0m         \u001b[0;32mprint\u001b[0m \u001b[0;34m(\u001b[0m\u001b[0mtype\u001b[0m\u001b[0;34m(\u001b[0m\u001b[0mconfig\u001b[0m\u001b[0;34m)\u001b[0m\u001b[0;34m)\u001b[0m\u001b[0;34m\u001b[0m\u001b[0m\n\u001b[0;32m---> 10\u001b[0;31m         \u001b[0mconfig\u001b[0m\u001b[0;34m.\u001b[0m\u001b[0mhparams\u001b[0m\u001b[0;34m.\u001b[0m\u001b[0mparse\u001b[0m\u001b[0;34m(\u001b[0m\u001b[0mhparams\u001b[0m\u001b[0;34m)\u001b[0m\u001b[0;34m\u001b[0m\u001b[0m\n\u001b[0m\u001b[1;32m     11\u001b[0m     \u001b[0;32melse\u001b[0m\u001b[0;34m:\u001b[0m\u001b[0;34m\u001b[0m\u001b[0m\n\u001b[1;32m     12\u001b[0m         \u001b[0mconfig\u001b[0m \u001b[0;34m=\u001b[0m \u001b[0mimprov_rnn_config_flags\u001b[0m\u001b[0;34m.\u001b[0m\u001b[0mconfig_from_flags\u001b[0m\u001b[0;34m(\u001b[0m\u001b[0;34m)\u001b[0m\u001b[0;34m\u001b[0m\u001b[0m\n",
      "\u001b[0;31mNameError\u001b[0m: global name 'hparams' is not defined"
     ]
    }
   ],
   "source": [
    "improv(bundle_file, config, output_dir)"
   ]
  },
  {
   "cell_type": "code",
   "execution_count": null,
   "metadata": {
    "collapsed": false
   },
   "outputs": [],
   "source": [
    "def testing_improv():\n",
    "    tf.logging.set_verbosity(FLAGS.log)\n",
    "    print (FLAGS.steps_per_chord)\n",
    "    \n",
    "    bundle = get_bundle()\n",
    "    print(bundle)\n",
    "\n"
   ]
  },
  {
   "cell_type": "code",
   "execution_count": null,
   "metadata": {
    "collapsed": false
   },
   "outputs": [],
   "source": [
    "testing_improv()"
   ]
  },
  {
   "cell_type": "code",
   "execution_count": null,
   "metadata": {
    "collapsed": false
   },
   "outputs": [],
   "source": [
    "improv() \\\n",
    "--config=${CONFIG} \\\n",
    "--bundle_file=${BUNDLE_PATH} \\\n",
    "--output_dir=/tmp/improv_rnn/generated \\\n",
    "--num_outputs=10 \\\n",
    "--primer_melody=\"[60]\" \\\n",
    "--backing_chords=\"C G Am F C G Am F\" \\\n",
    "--render_chords"
   ]
  },
  {
   "cell_type": "code",
   "execution_count": null,
   "metadata": {
    "collapsed": false
   },
   "outputs": [],
   "source": [
    "BUNDLE_PATH='/home/andrealpope/ExploreMagenta/PTModels'\n",
    "CONFIG='chord_pitches_improv'\n",
    "OUTPUT_DIR = '/home/andrealpope/ExploreMagenta/improv_rnn/generated'\n",
    "\n",
    "improv()"
   ]
  },
  {
   "cell_type": "code",
   "execution_count": null,
   "metadata": {
    "collapsed": true
   },
   "outputs": [],
   "source": [
    "# improv_rnn_generate (config=attention_improv, \n",
    "#                      run_dir='/tmp/improv_rnn/logdir/run1', \n",
    "#                      output_dir='/tmp/improv_rnn/generated', \n",
    "#                      num_outputs=10, \n",
    "#                      primer_melody=\"[57]\", \n",
    "#                      backing_chords=\"Am Dm G C F Bdim E E\", \n",
    "#                      render_chords)"
   ]
  },
  {
   "cell_type": "markdown",
   "metadata": {},
   "source": [
    "--------------Original Code Replaced-------------------"
   ]
  },
  {
   "cell_type": "code",
   "execution_count": null,
   "metadata": {
    "collapsed": false
   },
   "outputs": [],
   "source": [
    "# FLAGS = tf.app.flags.FLAGS\n",
    "\n",
    "# tf.app.flags.DEFINE_string('run_dir', None, 'Path to the directory where the latest checkpoint will be loaded from.')\n",
    "# tf.app.flags.DEFINE_string(\n",
    "#     'bundle_file', None,\n",
    "#     'Path to the bundle file. If specified, this will take priority over '\n",
    "#     'run_dir, unless save_generator_bundle is True, in which case both this '\n",
    "#     'flag and run_dir are required')\n",
    "# tf.app.flags.DEFINE_boolean(\n",
    "#     'save_generator_bundle', False,\n",
    "#     'If true, instead of generating a sequence, will save this generator as a '\n",
    "#     'bundle file in the location specified by the bundle_file flag')\n",
    "# tf.app.flags.DEFINE_string(\n",
    "#     'bundle_description', None,\n",
    "#     'A short, human-readable text description of the bundle (e.g., training '\n",
    "#     'data, hyper parameters, etc.).')\n",
    "# tf.app.flags.DEFINE_string(\n",
    "#     'output_dir', '/tmp/improv_rnn/generated',\n",
    "#     'The directory where MIDI files will be saved to.')\n",
    "# tf.app.flags.DEFINE_integer(\n",
    "#     'num_outputs', 10,\n",
    "#     'The number of lead sheets to generate. One MIDI file will be created for '\n",
    "#     'each.')\n",
    "# tf.app.flags.DEFINE_integer(\n",
    "#     'steps_per_chord', 16,\n",
    "#     'The number of melody steps to take per backing chord. Each step is a 16th '\n",
    "#     'of a bar, so if backing_chords = \"C G Am F\" and steps_per_chord = 16, '\n",
    "#     'four bars will be generated.')\n",
    "# tf.app.flags.DEFINE_string(\n",
    "#     'primer_melody', '',\n",
    "#     'A string representation of a Python list of '\n",
    "#     'magenta.music.Melody event values. For example: '\n",
    "#     '\"[60, -2, 60, -2, 67, -2, 67, -2]\". If specified, this melody will be '\n",
    "#     'used as the priming melody. If a priming melody is not specified, '\n",
    "#     'melodies will be generated from scratch.')\n",
    "# tf.app.flags.DEFINE_string(\n",
    "#     'backing_chords', 'C G Am F C G F C',\n",
    "#     'A string representation of a chord progression, with chord symbols '\n",
    "#     'separated by spaces. For example: \"C Dm7 G13 Cmaj7\". The duration of each '\n",
    "#     'chord, in steps, is specified by the steps_per_chord flag.')\n",
    "# tf.app.flags.DEFINE_string(\n",
    "#     'primer_midi', '',\n",
    "#     'The path to a MIDI file containing a melody that will be used as a '\n",
    "#     'priming melody. If a primer melody is not specified, melodies will be '\n",
    "#     'generated from scratch.')\n",
    "# tf.app.flags.DEFINE_boolean(\n",
    "#     'render_chords', False,\n",
    "#     'If true, the backing chords will also be rendered as notes in the output '\n",
    "#     'MIDI files.')\n",
    "# tf.app.flags.DEFINE_float(\n",
    "#     'qpm', None,\n",
    "#     'The quarters per minute to play generated output at. If a primer MIDI is '\n",
    "#     'given, the qpm from that will override this flag. If qpm is None, qpm '\n",
    "#     'will default to 120.')\n",
    "# tf.app.flags.DEFINE_float(\n",
    "#     'temperature', 1.0,\n",
    "#     'The randomness of the generated melodies. 1.0 uses the unaltered softmax '\n",
    "#     'probabilities, greater than 1.0 makes melodies more random, less than 1.0 '\n",
    "#     'makes melodies less random.')\n",
    "# tf.app.flags.DEFINE_integer(\n",
    "#     'beam_size', 1,\n",
    "#     'The beam size to use for beam search when generating melodies.')\n",
    "# tf.app.flags.DEFINE_integer(\n",
    "#     'branch_factor', 1,\n",
    "#     'The branch factor to use for beam search when generating melodies.')\n",
    "# tf.app.flags.DEFINE_integer(\n",
    "#     'steps_per_iteration', 1,\n",
    "#     'The number of melody steps to take per beam search iteration.')\n",
    "# tf.app.flags.DEFINE_string(\n",
    "#     'log', 'INFO',\n",
    "#     'The threshold for what messages will be logged DEBUG, INFO, WARN, ERROR, '\n",
    "#     'or FATAL.')\n"
   ]
  },
  {
   "cell_type": "code",
   "execution_count": null,
   "metadata": {
    "collapsed": true
   },
   "outputs": [],
   "source": [
    "# def get_checkpoint():\n",
    "#   \"\"\"Get the training dir to be used by the model.\"\"\"\n",
    "#   if FLAGS.run_dir and FLAGS.bundle_file and not FLAGS.save_generator_bundle:\n",
    "#     raise magenta.music.SequenceGeneratorException(\n",
    "#         'Cannot specify both bundle_file and run_dir')\n",
    "#   if FLAGS.run_dir:\n",
    "#     train_dir = os.path.join(os.path.expanduser(FLAGS.run_dir), 'train')\n",
    "#     return train_dir\n",
    "#   else:\n",
    "#     return None"
   ]
  },
  {
   "cell_type": "code",
   "execution_count": null,
   "metadata": {
    "collapsed": true
   },
   "outputs": [],
   "source": [
    "# def get_bundle():\n",
    "#   \"\"\"Returns a generator_pb2.GeneratorBundle object based read from bundle_file.\n",
    "#   Returns:\n",
    "#     Either a generator_pb2.GeneratorBundle or None if the bundle_file flag is\n",
    "#     not set or the save_generator_bundle flag is set.\n",
    "#   \"\"\"\n",
    "#   if FLAGS.save_generator_bundle:\n",
    "#     return None\n",
    "#   if FLAGS.bundle_file is None:\n",
    "#     return None\n",
    "#   bundle_file = os.path.expanduser(FLAGS.bundle_file)\n",
    "#   return magenta.music.read_bundle_file(bundle_file)"
   ]
  },
  {
   "cell_type": "code",
   "execution_count": null,
   "metadata": {
    "collapsed": true
   },
   "outputs": [],
   "source": [
    "# def run_with_flags(generator):\n",
    "#   \"\"\"Generates melodies and saves them as MIDI files.\n",
    "#   Uses the options specified by the flags defined in this module.\n",
    "#   Args:\n",
    "#     generator: The ImprovRnnSequenceGenerator to use for generation.\n",
    "#   \"\"\"\n",
    "#   if not FLAGS.output_dir:\n",
    "#     tf.logging.fatal('--output_dir required')\n",
    "#     return\n",
    "#   FLAGS.output_dir = os.path.expanduser(FLAGS.output_dir)\n",
    "\n",
    "#   primer_midi = None\n",
    "#   if FLAGS.primer_midi:\n",
    "#     primer_midi = os.path.expanduser(FLAGS.primer_midi)\n",
    "\n",
    "#   if not tf.gfile.Exists(FLAGS.output_dir):\n",
    "#     tf.gfile.MakeDirs(FLAGS.output_dir)\n",
    "\n",
    "#   primer_sequence = None\n",
    "#   qpm = FLAGS.qpm if FLAGS.qpm else magenta.music.DEFAULT_QUARTERS_PER_MINUTE\n",
    "#   if FLAGS.primer_melody:\n",
    "#     primer_melody = magenta.music.Melody(ast.literal_eval(FLAGS.primer_melody))\n",
    "#     primer_sequence = primer_melody.to_sequence(qpm=qpm)\n",
    "#   elif primer_midi:\n",
    "#     primer_sequence = magenta.music.midi_file_to_sequence_proto(primer_midi)\n",
    "#     if primer_sequence.tempos and primer_sequence.tempos[0].qpm:\n",
    "#       qpm = primer_sequence.tempos[0].qpm\n",
    "#   else:\n",
    "#     tf.logging.warning(\n",
    "#         'No priming sequence specified. Defaulting to a single middle C.')\n",
    "#     primer_melody = magenta.music.Melody([60])\n",
    "#     primer_sequence = primer_melody.to_sequence(qpm=qpm)\n",
    "\n",
    "#   # Create backing chord progression from flags.\n",
    "#   raw_chords = FLAGS.backing_chords.split()\n",
    "#   repeated_chords = [chord for chord in raw_chords\n",
    "#                      for _ in range(FLAGS.steps_per_chord)]\n",
    "#   backing_chords = magenta.music.ChordProgression(repeated_chords)\n",
    "\n",
    "#   # Derive the total number of seconds to generate based on the QPM of the\n",
    "#   # priming sequence and the length of the backing chord progression.\n",
    "#   seconds_per_step = 60.0 / qpm / generator.steps_per_quarter\n",
    "#   total_seconds = len(backing_chords) * seconds_per_step\n",
    "\n",
    "#   # Specify start/stop time for generation based on starting generation at the\n",
    "#   # end of the priming sequence and continuing until the sequence is num_steps\n",
    "#   # long.\n",
    "#   generator_options = generator_pb2.GeneratorOptions()\n",
    "#   if primer_sequence:\n",
    "#     input_sequence = primer_sequence\n",
    "#     # Set the start time to begin on the next step after the last note ends.\n",
    "#     last_end_time = (max(n.end_time for n in primer_sequence.notes)\n",
    "#                      if primer_sequence.notes else 0)\n",
    "#     generate_section = generator_options.generate_sections.add(\n",
    "#         start_time=last_end_time + seconds_per_step,\n",
    "#         end_time=total_seconds)\n",
    "\n",
    "#     if generate_section.start_time >= generate_section.end_time:\n",
    "#       tf.logging.fatal(\n",
    "#           'Priming sequence is longer than the total number of steps '\n",
    "#           'requested: Priming sequence length: %s, Generation length '\n",
    "#           'requested: %s',\n",
    "#           generate_section.start_time, total_seconds)\n",
    "#       return\n",
    "#   else:\n",
    "#     input_sequence = music_pb2.NoteSequence()\n",
    "#     input_sequence.tempos.add().qpm = qpm\n",
    "#     generate_section = generator_options.generate_sections.add(\n",
    "#         start_time=0,\n",
    "#         end_time=total_seconds)\n",
    "\n",
    "#   # Add the backing chords to the input sequence.\n",
    "#   chord_sequence = backing_chords.to_sequence(sequence_start_time=0.0, qpm=qpm)\n",
    "#   for text_annotation in chord_sequence.text_annotations:\n",
    "#     if text_annotation.annotation_type == CHORD_SYMBOL:\n",
    "#       chord = input_sequence.text_annotations.add()\n",
    "#       chord.CopyFrom(text_annotation)\n",
    "#   input_sequence.total_time = len(backing_chords) * seconds_per_step\n",
    "\n",
    "#   generator_options.args['temperature'].float_value = FLAGS.temperature\n",
    "#   generator_options.args['beam_size'].int_value = FLAGS.beam_size\n",
    "#   generator_options.args['branch_factor'].int_value = FLAGS.branch_factor\n",
    "#   generator_options.args[\n",
    "#       'steps_per_iteration'].int_value = FLAGS.steps_per_iteration\n",
    "#   tf.logging.debug('input_sequence: %s', input_sequence)\n",
    "#   tf.logging.debug('generator_options: %s', generator_options)\n",
    "\n",
    "#   # Make the generate request num_outputs times and save the output as midi files.\n",
    "#   date_and_time = time.strftime('%Y-%m-%d_%H%M%S')\n",
    "#   digits = len(str(FLAGS.num_outputs))\n",
    "#   for i in range(FLAGS.num_outputs):\n",
    "#     generated_sequence = generator.generate(input_sequence, generator_options)\n",
    "\n",
    "#     if FLAGS.render_chords:\n",
    "#       renderer = magenta.music.BasicChordRenderer(velocity=CHORD_VELOCITY)\n",
    "#       renderer.render(generated_sequence)\n",
    "\n",
    "#     midi_filename = '%s_%s.mid' % (date_and_time, str(i + 1).zfill(digits))\n",
    "#     midi_path = os.path.join(FLAGS.output_dir, midi_filename)\n",
    "#     magenta.music.sequence_proto_to_midi_file(generated_sequence, midi_path)\n",
    "\n",
    "#   tf.logging.info('Wrote %d MIDI files to %s',\n",
    "#                   FLAGS.num_outputs, FLAGS.output_dir)\n"
   ]
  }
 ],
 "metadata": {
  "kernelspec": {
   "display_name": "Python 2",
   "language": "python",
   "name": "python2"
  },
  "language_info": {
   "codemirror_mode": {
    "name": "ipython",
    "version": 2
   },
   "file_extension": ".py",
   "mimetype": "text/x-python",
   "name": "python",
   "nbconvert_exporter": "python",
   "pygments_lexer": "ipython2",
   "version": "2.7.13"
  }
 },
 "nbformat": 4,
 "nbformat_minor": 2
}
